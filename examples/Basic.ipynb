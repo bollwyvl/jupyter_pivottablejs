{
 "cells": [
  {
   "cell_type": "code",
   "execution_count": 27,
   "metadata": {
    "collapsed": false
   },
   "outputs": [],
   "source": [
    "from widgetpivottable import PivotTable"
   ]
  },
  {
   "cell_type": "code",
   "execution_count": 28,
   "metadata": {
    "collapsed": false
   },
   "outputs": [],
   "source": [
    "PivotTable(records=[\n",
    "    {\"name\": \"apple\", \"calories\": 95},\n",
    "    {\"name\": \"orange\", \"calories\": 45}\n",
    "])"
   ]
  }
 ],
 "metadata": {
  "kernelspec": {
   "display_name": "Python 3",
   "language": "python",
   "name": "python3"
  },
  "language_info": {
   "codemirror_mode": {
    "name": "ipython",
    "version": 3
   },
   "file_extension": ".py",
   "mimetype": "text/x-python",
   "name": "python",
   "nbconvert_exporter": "python",
   "pygments_lexer": "ipython3",
   "version": "3.5.1"
  },
  "widgets": {
   "state": {
    "0588966064cf4cc3bfc4c40abd95bcfb": {
     "views": []
    },
    "05b7ed4264d449d7b5da30a821cc63b7": {
     "views": []
    },
    "06766491b728497f8bfaec34a241aefb": {
     "views": []
    },
    "12002efbacdf402997d4df2882453f93": {
     "views": []
    },
    "1e976deca538413891a0afdf7b11a026": {
     "views": []
    },
    "2263120ffd244ee98e3d762678afe7df": {
     "views": []
    },
    "40401242000c448ab60f9837adb9962c": {
     "views": [
      {
       "cell_index": 1
      }
     ]
    },
    "5a4b1200b11b4d8fbe43522106a1f78b": {
     "views": []
    },
    "5ed24b716c3d49cd97514c41e4fb6c8f": {
     "views": []
    },
    "6a01d6074fbe4c3881b49ccaa5973877": {
     "views": []
    },
    "999170d1aeed498fac3b927662e73182": {
     "views": []
    },
    "a289a0cc34f944e0925ebfa0e31f1567": {
     "views": []
    },
    "abd690f216fb4c888d3ace3117fa4982": {
     "views": []
    },
    "acfefa3f1a22430ba42786a360fa91a4": {
     "views": []
    },
    "ae694c2fca274b23b79580612a82eed2": {
     "views": []
    },
    "b3b8226062ac499a839ca77ca1701a5b": {
     "views": []
    },
    "b3cf05e5db574276902d238bdec3cc51": {
     "views": []
    },
    "b7e97f574d624a9dae94898fa2aedb03": {
     "views": []
    },
    "ba6e238acc7345209b0afa703f401b52": {
     "views": []
    },
    "bd75f19384994e98b93c8634f3f7f497": {
     "views": []
    },
    "ccb7b8d5e8674449b9aa43f82c788605": {
     "views": []
    },
    "da094d8fdabf487d9f3f3b4bb894afa8": {
     "views": []
    },
    "db15945d96ff488d97d75b9e38de2933": {
     "views": []
    },
    "dbc664e0be7b46d1938ab8be7bd6ce42": {
     "views": []
    },
    "dbfd085dc3704de293c44a48d0f21f62": {
     "views": []
    },
    "f40a0439e21445d49a271a5f3992a4e7": {
     "views": []
    }
   },
   "version": "1.1.2"
  }
 },
 "nbformat": 4,
 "nbformat_minor": 0
}
