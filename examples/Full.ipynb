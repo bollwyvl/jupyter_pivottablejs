{
 "cells": [
  {
   "cell_type": "code",
   "execution_count": 28,
   "metadata": {
    "collapsed": false
   },
   "outputs": [],
   "source": [
    "from widgetpivottable import PivotTable"
   ]
  },
  {
   "cell_type": "markdown",
   "metadata": {},
   "source": [
    "You'll need `bokeh` and `pandas` for this sample data."
   ]
  },
  {
   "cell_type": "code",
   "execution_count": 29,
   "metadata": {
    "collapsed": true
   },
   "outputs": [],
   "source": [
    "from bokeh.sampledata.iris import flowers"
   ]
  },
  {
   "cell_type": "markdown",
   "metadata": {},
   "source": [
    "Make the widget!"
   ]
  },
  {
   "cell_type": "code",
   "execution_count": 30,
   "metadata": {
    "collapsed": false
   },
   "outputs": [],
   "source": [
    "pivot = PivotTable(\n",
    "    # expects a list of dicts... could add some more options\n",
    "    records=flowers.to_dict(orient=\"records\"),\n",
    "    # these are names of attributes in the dicts\n",
    "    rows=[\"sepal_width\"],\n",
    "    cols=[\"petal_width\"],\n",
    "    vals=[\"sepal_length\"],\n",
    "    hidden=[\"species\"],\n",
    "    # these are names appearing in dropdowns in the UI\n",
    "    renderer=\"Heatmap\",\n",
    "    aggregator=\"Average\",\n",
    "    # Might be nice as a default, actually\n",
    "    auto_sort_unused=True,\n",
    "    # Not very useful\n",
    "    menu_limit=10\n",
    ")"
   ]
  },
  {
   "cell_type": "markdown",
   "metadata": {},
   "source": [
    "Display the widget!"
   ]
  },
  {
   "cell_type": "code",
   "execution_count": 31,
   "metadata": {
    "collapsed": false
   },
   "outputs": [],
   "source": [
    "pivot"
   ]
  },
  {
   "cell_type": "markdown",
   "metadata": {},
   "source": [
    "Change the properties with python:"
   ]
  },
  {
   "cell_type": "code",
   "execution_count": 32,
   "metadata": {
    "collapsed": false
   },
   "outputs": [],
   "source": [
    "pivot.aggregator = \"Sum\"\n",
    "pivot.renderer = \"Treemap\"\n",
    "pivot.rows = []\n",
    "pivot.cols = []"
   ]
  }
 ],
 "metadata": {
  "kernelspec": {
   "display_name": "Python 3",
   "language": "python",
   "name": "python3"
  },
  "language_info": {
   "codemirror_mode": {
    "name": "ipython",
    "version": 3
   },
   "file_extension": ".py",
   "mimetype": "text/x-python",
   "name": "python",
   "nbconvert_exporter": "python",
   "pygments_lexer": "ipython3",
   "version": "3.5.1"
  },
  "widgets": {
   "state": {
    "0451444963c245e2a49e62d22aca1750": {
     "views": []
    },
    "2343fef4be71404e8d2108615245a148": {
     "views": []
    },
    "27aef6f99f1b41f683ec21b0bb79f2a8": {
     "views": []
    },
    "2c4571168b4340b8a52c2ba704c054c3": {
     "views": []
    },
    "2d132fbf4aef4b20a57ffe975d96f0f6": {
     "views": []
    },
    "5e12bf9df6e340b6b4d55d6fa6d29fe8": {
     "views": []
    },
    "7951ff114bf34cdfa3a9988a2fc7a76c": {
     "views": []
    },
    "79af816094584d9fbee75d46ec33731e": {
     "views": [
      {
       "cell_index": 6
      }
     ]
    },
    "7e583aade3c1455aa0756c8eeac028a0": {
     "views": []
    },
    "9a6efe3ca70f4490b84899f13b3be2c4": {
     "views": []
    },
    "e464ee7049374799b7fa8e7d43850211": {
     "views": []
    },
    "eae730d319c346ca87493e8f2c579742": {
     "views": []
    },
    "f23da74e12144bb5b24481ada855e6b5": {
     "views": []
    },
    "feb298a1aee649c590ecdfce7cc07fd8": {
     "views": []
    }
   },
   "version": "1.1.2"
  }
 },
 "nbformat": 4,
 "nbformat_minor": 0
}
