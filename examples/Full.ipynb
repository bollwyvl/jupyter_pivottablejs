{
 "cells": [
  {
   "cell_type": "code",
   "execution_count": 20,
   "metadata": {
    "collapsed": false
   },
   "outputs": [],
   "source": [
    "from widgetpivottable import PivotTable"
   ]
  },
  {
   "cell_type": "markdown",
   "metadata": {},
   "source": [
    "You'll need `bokeh` and `pandas` for this sample data."
   ]
  },
  {
   "cell_type": "code",
   "execution_count": 21,
   "metadata": {
    "collapsed": true
   },
   "outputs": [],
   "source": [
    "from bokeh.sampledata.iris import flowers"
   ]
  },
  {
   "cell_type": "markdown",
   "metadata": {},
   "source": [
    "Make the widget!"
   ]
  },
  {
   "cell_type": "code",
   "execution_count": 22,
   "metadata": {
    "collapsed": false
   },
   "outputs": [],
   "source": [
    "pivot = PivotTable(\n",
    "    # expects a list of dicts... could add some more options\n",
    "    records=flowers.to_dict(orient=\"records\"),\n",
    "    # these are names of attributes in the dicts\n",
    "    rows=[\"sepal_width\"],\n",
    "    cols=[\"petal_width\"],\n",
    "    vals=[\"sepal_length\"],\n",
    "    hidden=[\"species\"],\n",
    "    # these are names appearing in dropdowns\n",
    "    renderer=\"Heatmap\",\n",
    "    aggregator=\"Average\",\n",
    "    # Might be nice as a default, actually\n",
    "    auto_sort_unused=True,\n",
    "    # Not very useful\n",
    "    menu_limit=10\n",
    ")"
   ]
  },
  {
   "cell_type": "markdown",
   "metadata": {},
   "source": [
    "Display the widget!"
   ]
  },
  {
   "cell_type": "code",
   "execution_count": 23,
   "metadata": {
    "collapsed": true
   },
   "outputs": [],
   "source": [
    "pivot"
   ]
  },
  {
   "cell_type": "code",
   "execution_count": null,
   "metadata": {
    "collapsed": true
   },
   "outputs": [],
   "source": []
  }
 ],
 "metadata": {
  "kernelspec": {
   "display_name": "Python 3",
   "language": "python",
   "name": "python3"
  },
  "language_info": {
   "codemirror_mode": {
    "name": "ipython",
    "version": 3
   },
   "file_extension": ".py",
   "mimetype": "text/x-python",
   "name": "python",
   "nbconvert_exporter": "python",
   "pygments_lexer": "ipython3",
   "version": "3.5.1"
  },
  "widgets": {
   "state": {
    "02e0f788f4764fe68d28dff03056e7a4": {
     "views": []
    },
    "3098b41676984bef9a92b120b99d0981": {
     "views": []
    },
    "33ba4e64554b46dc822755f70cced3b7": {
     "views": []
    },
    "4dda6a30b4064969a0dc08f3f510c67f": {
     "views": [
      {
       "cell_index": 6
      }
     ]
    },
    "609187e209d74eb3ab0376d744b23116": {
     "views": []
    },
    "774fa75075144b91b1002dcf79d8571f": {
     "views": []
    },
    "a55c5d4087cc46bda7c6c782d80732bb": {
     "views": []
    },
    "b7e3d3e7ee5c4b19baada0bbb711b306": {
     "views": []
    },
    "bdbf9548c2ef4938933e111d0b0f718f": {
     "views": []
    },
    "da391c5f9b814d159fdc2d93fc38e53b": {
     "views": []
    },
    "dce46989f2e84bbebbf755711408e914": {
     "views": []
    },
    "ec7d80bd7c194b2a999bfbb3fd09a2c0": {
     "views": []
    }
   },
   "version": "1.1.2"
  }
 },
 "nbformat": 4,
 "nbformat_minor": 0
}
